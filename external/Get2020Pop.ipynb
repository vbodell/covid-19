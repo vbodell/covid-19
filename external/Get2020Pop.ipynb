{
 "cells": [
  {
   "cell_type": "code",
   "execution_count": 1,
   "metadata": {},
   "outputs": [],
   "source": [
    "from pyscbwrapper import SCB\n",
    "import pandas as pd"
   ]
  },
  {
   "cell_type": "code",
   "execution_count": 2,
   "metadata": {},
   "outputs": [],
   "source": [
    "scb = SCB('sv', 'BE', 'BE0101', 'BE0101A', 'BefolkManad')"
   ]
  },
  {
   "cell_type": "code",
   "execution_count": 3,
   "metadata": {},
   "outputs": [
    {
     "data": {
      "text/plain": [
       "['Folkmängden per månad']"
      ]
     },
     "execution_count": 3,
     "metadata": {},
     "output_type": "execute_result"
    }
   ],
   "source": [
    "scb.get_variables()['tabellinnehåll']"
   ]
  },
  {
   "cell_type": "code",
   "execution_count": 4,
   "metadata": {},
   "outputs": [],
   "source": [
    "regions = [region for region in scb.get_variables()['region'] if region == 'Riket' or region[-3:] == 'län']"
   ]
  },
  {
   "cell_type": "code",
   "execution_count": 5,
   "metadata": {},
   "outputs": [],
   "source": [
    "vars_ = scb.get_variables()\n",
    "scb.set_query(region=regions, \n",
    "              ålder=vars_['ålder'],\n",
    "              kön=vars_['kön'],\n",
    "              månad=vars_['månad'][-1],)"
   ]
  },
  {
   "cell_type": "code",
   "execution_count": 6,
   "metadata": {},
   "outputs": [],
   "source": [
    "data = scb.get_data()['data']"
   ]
  },
  {
   "cell_type": "code",
   "execution_count": 7,
   "metadata": {},
   "outputs": [
    {
     "data": {
      "text/html": [
       "<div>\n",
       "<style scoped>\n",
       "    .dataframe tbody tr th:only-of-type {\n",
       "        vertical-align: middle;\n",
       "    }\n",
       "\n",
       "    .dataframe tbody tr th {\n",
       "        vertical-align: top;\n",
       "    }\n",
       "\n",
       "    .dataframe thead th {\n",
       "        text-align: right;\n",
       "    }\n",
       "</style>\n",
       "<table border=\"1\" class=\"dataframe\">\n",
       "  <thead>\n",
       "    <tr style=\"text-align: right;\">\n",
       "      <th></th>\n",
       "      <th>region</th>\n",
       "      <th>age</th>\n",
       "      <th>sex</th>\n",
       "      <th>time</th>\n",
       "      <th>value</th>\n",
       "    </tr>\n",
       "  </thead>\n",
       "  <tbody>\n",
       "    <tr>\n",
       "      <th>0</th>\n",
       "      <td>00</td>\n",
       "      <td>0</td>\n",
       "      <td>1</td>\n",
       "      <td>2020M02</td>\n",
       "      <td>9623</td>\n",
       "    </tr>\n",
       "    <tr>\n",
       "      <th>1</th>\n",
       "      <td>00</td>\n",
       "      <td>0</td>\n",
       "      <td>2</td>\n",
       "      <td>2020M02</td>\n",
       "      <td>8973</td>\n",
       "    </tr>\n",
       "    <tr>\n",
       "      <th>2</th>\n",
       "      <td>00</td>\n",
       "      <td>1</td>\n",
       "      <td>1</td>\n",
       "      <td>2020M02</td>\n",
       "      <td>59624</td>\n",
       "    </tr>\n",
       "    <tr>\n",
       "      <th>3</th>\n",
       "      <td>00</td>\n",
       "      <td>1</td>\n",
       "      <td>2</td>\n",
       "      <td>2020M02</td>\n",
       "      <td>56084</td>\n",
       "    </tr>\n",
       "    <tr>\n",
       "      <th>4</th>\n",
       "      <td>00</td>\n",
       "      <td>2</td>\n",
       "      <td>1</td>\n",
       "      <td>2020M02</td>\n",
       "      <td>61080</td>\n",
       "    </tr>\n",
       "    <tr>\n",
       "      <th>...</th>\n",
       "      <td>...</td>\n",
       "      <td>...</td>\n",
       "      <td>...</td>\n",
       "      <td>...</td>\n",
       "      <td>...</td>\n",
       "    </tr>\n",
       "    <tr>\n",
       "      <th>4439</th>\n",
       "      <td>25</td>\n",
       "      <td>98</td>\n",
       "      <td>2</td>\n",
       "      <td>2020M02</td>\n",
       "      <td>51</td>\n",
       "    </tr>\n",
       "    <tr>\n",
       "      <th>4440</th>\n",
       "      <td>25</td>\n",
       "      <td>99</td>\n",
       "      <td>1</td>\n",
       "      <td>2020M02</td>\n",
       "      <td>6</td>\n",
       "    </tr>\n",
       "    <tr>\n",
       "      <th>4441</th>\n",
       "      <td>25</td>\n",
       "      <td>99</td>\n",
       "      <td>2</td>\n",
       "      <td>2020M02</td>\n",
       "      <td>31</td>\n",
       "    </tr>\n",
       "    <tr>\n",
       "      <th>4442</th>\n",
       "      <td>25</td>\n",
       "      <td>100+</td>\n",
       "      <td>1</td>\n",
       "      <td>2020M02</td>\n",
       "      <td>11</td>\n",
       "    </tr>\n",
       "    <tr>\n",
       "      <th>4443</th>\n",
       "      <td>25</td>\n",
       "      <td>100+</td>\n",
       "      <td>2</td>\n",
       "      <td>2020M02</td>\n",
       "      <td>36</td>\n",
       "    </tr>\n",
       "  </tbody>\n",
       "</table>\n",
       "<p>4444 rows × 5 columns</p>\n",
       "</div>"
      ],
      "text/plain": [
       "     region   age sex     time  value\n",
       "0        00     0   1  2020M02   9623\n",
       "1        00     0   2  2020M02   8973\n",
       "2        00     1   1  2020M02  59624\n",
       "3        00     1   2  2020M02  56084\n",
       "4        00     2   1  2020M02  61080\n",
       "...     ...   ...  ..      ...    ...\n",
       "4439     25    98   2  2020M02     51\n",
       "4440     25    99   1  2020M02      6\n",
       "4441     25    99   2  2020M02     31\n",
       "4442     25  100+   1  2020M02     11\n",
       "4443     25  100+   2  2020M02     36\n",
       "\n",
       "[4444 rows x 5 columns]"
      ]
     },
     "execution_count": 7,
     "metadata": {},
     "output_type": "execute_result"
    }
   ],
   "source": [
    "df = pd.DataFrame(data)\n",
    "df['region'] = [k[0] for k in df.key]\n",
    "df['age'] = [k[1] for k in df.key]\n",
    "df['sex'] = [k[2] for k in df.key]\n",
    "df['time'] = [k[3] for k in df.key]\n",
    "df['value'] = [int(k[0]) for k in df['values']]\n",
    "df = df[df.columns[2:]]\n",
    "df"
   ]
  },
  {
   "cell_type": "code",
   "execution_count": 8,
   "metadata": {},
   "outputs": [],
   "source": [
    "region_mappings = {k: v for k, v in \n",
    "                   zip(scb.info()['variables'][0]['values'], \n",
    "                       scb.info()['variables'][0]['valueTexts'])}\n",
    "df['region'] = [region_mappings[reg] for reg in df['region']]\n",
    "\n",
    "scb_sex = scb.get_variables()['kön']\n",
    "df['sex'] = [scb_sex[int(v)-1] for v in df['sex']]"
   ]
  },
  {
   "cell_type": "code",
   "execution_count": 9,
   "metadata": {},
   "outputs": [],
   "source": [
    "# Bin age data\n",
    "df.loc[df.age == '100+','age'] = 100\n",
    "df['age'] = df['age'].astype(int)\n",
    "\n",
    "lbls = [f'{v}0-{(v+1)*10-1}' for v in range(10)]\n",
    "lbls[0] = '0-9'\n",
    "lbls[-1] = '90+'\n",
    "df['agegroup'] = pd.cut(df['age'], 10, precision=3, labels=lbls)"
   ]
  },
  {
   "cell_type": "code",
   "execution_count": 12,
   "metadata": {},
   "outputs": [],
   "source": [
    "df.to_pickle('pop_2020-02.pkl')"
   ]
  },
  {
   "cell_type": "code",
   "execution_count": null,
   "metadata": {},
   "outputs": [],
   "source": []
  }
 ],
 "metadata": {
  "kernelspec": {
   "display_name": "Python 3",
   "language": "python",
   "name": "python3"
  },
  "language_info": {
   "codemirror_mode": {
    "name": "ipython",
    "version": 3
   },
   "file_extension": ".py",
   "mimetype": "text/x-python",
   "name": "python",
   "nbconvert_exporter": "python",
   "pygments_lexer": "ipython3",
   "version": "3.7.4"
  }
 },
 "nbformat": 4,
 "nbformat_minor": 4
}
